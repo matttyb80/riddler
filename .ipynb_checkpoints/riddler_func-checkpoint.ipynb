{
 "cells": [
  {
   "cell_type": "markdown",
   "metadata": {},
   "source": [
    "### Riddler Classic, fivethirtyeight.com, May 13, 2019"
   ]
  },
  {
   "cell_type": "markdown",
   "metadata": {},
   "source": [
    "From https://fivethirtyeight.com/features/can-the-riddler-bros-beat-joe-dimaggios-hitting-streak/\n",
    "\n",
    "Five brothers join the Riddler Baseball Independent Society, or RBIs. Each of them enjoys a lengthy career of 20 seasons, with 160 games per season and four plate appearances per game. (To make this simple, assume each plate appearance results in a hit or an out, so there are no sac flies or walks to complicate this math.)\n",
    "\n",
    "Given that their batting averages are .200, .250, .300, .350 and .400, what are each brother’s chances of beating DiMaggio’s 56-game hitting streak at some point in his career? (Streaks can span across seasons.)\n",
    "\n",
    "By the way, their cousin has a .500 average, but he will get tossed from the league after his 10th season when he tests positive for performance enhancers. What are his chances of beating the streak?"
   ]
  },
  {
   "cell_type": "markdown",
   "metadata": {},
   "source": [
    "## Analytical Solution\n",
    "Each at-bat is a discrete event. The streak is extended by getting at least one hit in each of those four attempts. The probability of getting a hit in a game as a function of four at-bats:\n",
    "\n",
    "$Pr(H_{per game}) = Pr(AB1) + Pr(AB2) + Pr(AB3) + Pr(AB4)$\n",
    "\n",
    "If Pr(H) is the probability of getting a hit and P(O) is the probability of making an out, then:\n",
    "\n",
    "$Pr(H_{per game}) = Pr(H) + Pr(H)*Pr(O) + Pr(H)*Pr(O)^2 + Pr(H)*Pr(O)^3$\n",
    "\n",
    "then the probability of starting a streak of **n** games at any given game is:\n",
    "\n",
    "$Pr(Streak_n) = Pr(H_{per game})^n$\n",
    "\n",
    "Each game is a new attempt of starting a streak of n games. However, new attempt of an n-game streak must occur n games before the end of the career:\n",
    "$ Attempts = Games * Seasons - Streak$\n",
    "\n",
    "Total probability should be $Attempts * Pr(Streak_n)$ ?"
   ]
  },
  {
   "cell_type": "markdown",
   "metadata": {},
   "source": [
    "#### Library Imports"
   ]
  },
  {
   "cell_type": "code",
   "execution_count": 1,
   "metadata": {},
   "outputs": [],
   "source": [
    "from IPython.display import Image\n",
    "import pandas as pd\n",
    "import numpy as np\n",
    "import matplotlib as mpl\n",
    "import matplotlib.pyplot as plt\n",
    "import seaborn as sns\n",
    "import math\n",
    "#from tabulate import tabulate\n",
    "from scipy import stats\n",
    "sns.set_style('whitegrid')\n",
    "from decimal import Decimal\n",
    "from datetime import timedelta\n",
    "\n",
    "%matplotlib inline"
   ]
  },
  {
   "cell_type": "markdown",
   "metadata": {},
   "source": [
    "##### Initial Values"
   ]
  },
  {
   "cell_type": "code",
   "execution_count": 2,
   "metadata": {},
   "outputs": [],
   "source": [
    "#Internal\n",
    "avg_200 = 200\n",
    "avg_250 = 250\n",
    "avg_300 = 300\n",
    "avg_350 = 350\n",
    "avg_400 = 400"
   ]
  },
  {
   "cell_type": "code",
   "execution_count": 3,
   "metadata": {},
   "outputs": [
    {
     "name": "stdout",
     "output_type": "stream",
     "text": [
      "3143\n"
     ]
    }
   ],
   "source": [
    "record = 57\n",
    "games = 160\n",
    "seasons = 20\n",
    "attempts = games * seasons - record\n",
    "print(attempts)"
   ]
  },
  {
   "cell_type": "code",
   "execution_count": 4,
   "metadata": {},
   "outputs": [
    {
     "data": {
      "text/html": [
       "<div>\n",
       "<style scoped>\n",
       "    .dataframe tbody tr th:only-of-type {\n",
       "        vertical-align: middle;\n",
       "    }\n",
       "\n",
       "    .dataframe tbody tr th {\n",
       "        vertical-align: top;\n",
       "    }\n",
       "\n",
       "    .dataframe thead th {\n",
       "        text-align: right;\n",
       "    }\n",
       "</style>\n",
       "<table border=\"1\" class=\"dataframe\">\n",
       "  <thead>\n",
       "    <tr style=\"text-align: right;\">\n",
       "      <th></th>\n",
       "      <th>Player</th>\n",
       "    </tr>\n",
       "  </thead>\n",
       "  <tbody>\n",
       "    <tr>\n",
       "      <th>0</th>\n",
       "      <td>200</td>\n",
       "    </tr>\n",
       "    <tr>\n",
       "      <th>1</th>\n",
       "      <td>250</td>\n",
       "    </tr>\n",
       "    <tr>\n",
       "      <th>2</th>\n",
       "      <td>300</td>\n",
       "    </tr>\n",
       "    <tr>\n",
       "      <th>3</th>\n",
       "      <td>350</td>\n",
       "    </tr>\n",
       "    <tr>\n",
       "      <th>4</th>\n",
       "      <td>400</td>\n",
       "    </tr>\n",
       "  </tbody>\n",
       "</table>\n",
       "</div>"
      ],
      "text/plain": [
       "   Player\n",
       "0     200\n",
       "1     250\n",
       "2     300\n",
       "3     350\n",
       "4     400"
      ]
     },
     "execution_count": 4,
     "metadata": {},
     "output_type": "execute_result"
    }
   ],
   "source": [
    "rbi = pd.DataFrame(data=[avg_200, avg_250, avg_300, avg_350, avg_400], columns=['Player'] )\n",
    "rbi"
   ]
  },
  {
   "cell_type": "markdown",
   "metadata": {},
   "source": [
    "Probability of getting a hit in a game as a result of four at bats."
   ]
  },
  {
   "cell_type": "code",
   "execution_count": 5,
   "metadata": {},
   "outputs": [],
   "source": [
    "def hit_game(x):\n",
    "    hit = x / 1000\n",
    "    out = 1 - hit\n",
    "    prob = hit + hit * out + hit * out**2 + hit * out**3\n",
    "    return prob"
   ]
  },
  {
   "cell_type": "code",
   "execution_count": 6,
   "metadata": {},
   "outputs": [
    {
     "data": {
      "text/html": [
       "<div>\n",
       "<style scoped>\n",
       "    .dataframe tbody tr th:only-of-type {\n",
       "        vertical-align: middle;\n",
       "    }\n",
       "\n",
       "    .dataframe tbody tr th {\n",
       "        vertical-align: top;\n",
       "    }\n",
       "\n",
       "    .dataframe thead th {\n",
       "        text-align: right;\n",
       "    }\n",
       "</style>\n",
       "<table border=\"1\" class=\"dataframe\">\n",
       "  <thead>\n",
       "    <tr style=\"text-align: right;\">\n",
       "      <th></th>\n",
       "      <th>Player</th>\n",
       "      <th>per_game</th>\n",
       "      <th>Streak</th>\n",
       "      <th>Career</th>\n",
       "      <th>Record</th>\n",
       "    </tr>\n",
       "  </thead>\n",
       "  <tbody>\n",
       "    <tr>\n",
       "      <th>0</th>\n",
       "      <td>200</td>\n",
       "      <td>0.590400</td>\n",
       "      <td>9.022811e-14</td>\n",
       "      <td>2.835870e-10</td>\n",
       "      <td>4.975210e-12</td>\n",
       "    </tr>\n",
       "    <tr>\n",
       "      <th>1</th>\n",
       "      <td>250</td>\n",
       "      <td>0.683594</td>\n",
       "      <td>3.832576e-10</td>\n",
       "      <td>1.204579e-06</td>\n",
       "      <td>2.113296e-08</td>\n",
       "    </tr>\n",
       "    <tr>\n",
       "      <th>2</th>\n",
       "      <td>300</td>\n",
       "      <td>0.759900</td>\n",
       "      <td>1.596310e-07</td>\n",
       "      <td>5.017204e-04</td>\n",
       "      <td>8.802111e-06</td>\n",
       "    </tr>\n",
       "    <tr>\n",
       "      <th>3</th>\n",
       "      <td>350</td>\n",
       "      <td>0.821494</td>\n",
       "      <td>1.356573e-05</td>\n",
       "      <td>4.263708e-02</td>\n",
       "      <td>7.480189e-04</td>\n",
       "    </tr>\n",
       "    <tr>\n",
       "      <th>4</th>\n",
       "      <td>400</td>\n",
       "      <td>0.870400</td>\n",
       "      <td>3.664176e-04</td>\n",
       "      <td>1.151650e+00</td>\n",
       "      <td>2.020439e-02</td>\n",
       "    </tr>\n",
       "  </tbody>\n",
       "</table>\n",
       "</div>"
      ],
      "text/plain": [
       "   Player  per_game        Streak        Career        Record\n",
       "0     200  0.590400  9.022811e-14  2.835870e-10  4.975210e-12\n",
       "1     250  0.683594  3.832576e-10  1.204579e-06  2.113296e-08\n",
       "2     300  0.759900  1.596310e-07  5.017204e-04  8.802111e-06\n",
       "3     350  0.821494  1.356573e-05  4.263708e-02  7.480189e-04\n",
       "4     400  0.870400  3.664176e-04  1.151650e+00  2.020439e-02"
      ]
     },
     "execution_count": 6,
     "metadata": {},
     "output_type": "execute_result"
    }
   ],
   "source": [
    "rbi['per_game'] = rbi.Player.apply(hit_game)\n",
    "rbi['Streak'] = rbi.per_game**record\n",
    "rbi['Career'] = rbi.Streak * attempts\n",
    "rbi['Record'] = rbi.Career / record\n",
    "rbi"
   ]
  },
  {
   "cell_type": "code",
   "execution_count": 7,
   "metadata": {},
   "outputs": [
    {
     "data": {
      "text/html": [
       "<div>\n",
       "<style scoped>\n",
       "    .dataframe tbody tr th:only-of-type {\n",
       "        vertical-align: middle;\n",
       "    }\n",
       "\n",
       "    .dataframe tbody tr th {\n",
       "        vertical-align: top;\n",
       "    }\n",
       "\n",
       "    .dataframe thead th {\n",
       "        text-align: right;\n",
       "    }\n",
       "</style>\n",
       "<table border=\"1\" class=\"dataframe\">\n",
       "  <thead>\n",
       "    <tr style=\"text-align: right;\">\n",
       "      <th></th>\n",
       "      <th>0</th>\n",
       "      <th>1</th>\n",
       "      <th>2</th>\n",
       "      <th>3</th>\n",
       "      <th>4</th>\n",
       "    </tr>\n",
       "  </thead>\n",
       "  <tbody>\n",
       "    <tr>\n",
       "      <th>Player</th>\n",
       "      <td>2.000000e+02</td>\n",
       "      <td>2.500000e+02</td>\n",
       "      <td>3.000000e+02</td>\n",
       "      <td>350.000000</td>\n",
       "      <td>400.000000</td>\n",
       "    </tr>\n",
       "    <tr>\n",
       "      <th>per_game</th>\n",
       "      <td>5.904000e-01</td>\n",
       "      <td>6.835938e-01</td>\n",
       "      <td>7.599000e-01</td>\n",
       "      <td>0.821494</td>\n",
       "      <td>0.870400</td>\n",
       "    </tr>\n",
       "    <tr>\n",
       "      <th>Streak</th>\n",
       "      <td>9.022811e-14</td>\n",
       "      <td>3.832576e-10</td>\n",
       "      <td>1.596310e-07</td>\n",
       "      <td>0.000014</td>\n",
       "      <td>0.000366</td>\n",
       "    </tr>\n",
       "    <tr>\n",
       "      <th>Career</th>\n",
       "      <td>2.835870e-10</td>\n",
       "      <td>1.204579e-06</td>\n",
       "      <td>5.017204e-04</td>\n",
       "      <td>0.042637</td>\n",
       "      <td>1.151650</td>\n",
       "    </tr>\n",
       "    <tr>\n",
       "      <th>Record</th>\n",
       "      <td>4.975210e-12</td>\n",
       "      <td>2.113296e-08</td>\n",
       "      <td>8.802111e-06</td>\n",
       "      <td>0.000748</td>\n",
       "      <td>0.020204</td>\n",
       "    </tr>\n",
       "  </tbody>\n",
       "</table>\n",
       "</div>"
      ],
      "text/plain": [
       "                     0             1             2           3           4\n",
       "Player    2.000000e+02  2.500000e+02  3.000000e+02  350.000000  400.000000\n",
       "per_game  5.904000e-01  6.835938e-01  7.599000e-01    0.821494    0.870400\n",
       "Streak    9.022811e-14  3.832576e-10  1.596310e-07    0.000014    0.000366\n",
       "Career    2.835870e-10  1.204579e-06  5.017204e-04    0.042637    1.151650\n",
       "Record    4.975210e-12  2.113296e-08  8.802111e-06    0.000748    0.020204"
      ]
     },
     "execution_count": 7,
     "metadata": {},
     "output_type": "execute_result"
    }
   ],
   "source": [
    "streak_length = rbi.transpose()\n",
    "streak_length"
   ]
  },
  {
   "cell_type": "code",
   "execution_count": 8,
   "metadata": {},
   "outputs": [
    {
     "data": {
      "text/html": [
       "<div>\n",
       "<style scoped>\n",
       "    .dataframe tbody tr th:only-of-type {\n",
       "        vertical-align: middle;\n",
       "    }\n",
       "\n",
       "    .dataframe tbody tr th {\n",
       "        vertical-align: top;\n",
       "    }\n",
       "\n",
       "    .dataframe thead th {\n",
       "        text-align: right;\n",
       "    }\n",
       "</style>\n",
       "<table border=\"1\" class=\"dataframe\">\n",
       "  <thead>\n",
       "    <tr style=\"text-align: right;\">\n",
       "      <th></th>\n",
       "      <th>200.0</th>\n",
       "      <th>250.0</th>\n",
       "      <th>300.0</th>\n",
       "      <th>350.0</th>\n",
       "      <th>400.0</th>\n",
       "    </tr>\n",
       "  </thead>\n",
       "  <tbody>\n",
       "    <tr>\n",
       "      <th>1</th>\n",
       "      <td>0.590400</td>\n",
       "      <td>0.683594</td>\n",
       "      <td>0.759900</td>\n",
       "      <td>0.821494</td>\n",
       "      <td>0.870400</td>\n",
       "    </tr>\n",
       "    <tr>\n",
       "      <th>2</th>\n",
       "      <td>0.348572</td>\n",
       "      <td>0.467300</td>\n",
       "      <td>0.577448</td>\n",
       "      <td>0.674852</td>\n",
       "      <td>0.757596</td>\n",
       "    </tr>\n",
       "    <tr>\n",
       "      <th>3</th>\n",
       "      <td>0.205797</td>\n",
       "      <td>0.319444</td>\n",
       "      <td>0.438803</td>\n",
       "      <td>0.554387</td>\n",
       "      <td>0.659412</td>\n",
       "    </tr>\n",
       "    <tr>\n",
       "      <th>4</th>\n",
       "      <td>0.121503</td>\n",
       "      <td>0.218370</td>\n",
       "      <td>0.333446</td>\n",
       "      <td>0.455425</td>\n",
       "      <td>0.573952</td>\n",
       "    </tr>\n",
       "    <tr>\n",
       "      <th>5</th>\n",
       "      <td>0.071735</td>\n",
       "      <td>0.149276</td>\n",
       "      <td>0.253386</td>\n",
       "      <td>0.374129</td>\n",
       "      <td>0.499568</td>\n",
       "    </tr>\n",
       "  </tbody>\n",
       "</table>\n",
       "</div>"
      ],
      "text/plain": [
       "      200.0     250.0     300.0     350.0     400.0\n",
       "1  0.590400  0.683594  0.759900  0.821494  0.870400\n",
       "2  0.348572  0.467300  0.577448  0.674852  0.757596\n",
       "3  0.205797  0.319444  0.438803  0.554387  0.659412\n",
       "4  0.121503  0.218370  0.333446  0.455425  0.573952\n",
       "5  0.071735  0.149276  0.253386  0.374129  0.499568"
      ]
     },
     "execution_count": 8,
     "metadata": {},
     "output_type": "execute_result"
    }
   ],
   "source": [
    "# Length is a dataframe of the probability of each hitter having a hitting streak of index length using\n",
    "# their probability of getting a hit per game\n",
    "length = pd.DataFrame(index =np.arange(1,58,1))\n",
    "for col in streak_length.columns:\n",
    "    name = str(streak_length[col].loc['Player'])\n",
    "    length[name] = streak_length[col].loc['per_game'] ** length.index\n",
    "length.head()"
   ]
  },
  {
   "cell_type": "code",
   "execution_count": 9,
   "metadata": {},
   "outputs": [
    {
     "data": {
      "text/plain": [
       "Text(0, 0.5, 'Probability')"
      ]
     },
     "execution_count": 9,
     "metadata": {},
     "output_type": "execute_result"
    },
    {
     "data": {
      "image/png": "[encoded data removed]",
      "text/plain": [
       "<Figure size 720x432 with 1 Axes>"
      ]
     },
     "metadata": {
      "needs_background": "light"
     },
     "output_type": "display_data"
    }
   ],
   "source": [
    "length.plot(figsize=(10,6))\n",
    "plt.xlabel('Streak Length')\n",
    "plt.ylabel('Probability')"
   ]
  },
  {
   "cell_type": "code",
   "execution_count": 10,
   "metadata": {},
   "outputs": [
    {
     "data": {
      "text/plain": [
       "Text(0, 0.5, 'Probability')"
      ]
     },
     "execution_count": 10,
     "metadata": {},
     "output_type": "execute_result"
    },
    {
     "data": {
      "image/png": "[encoded data removed]",
      "text/plain": [
       "<Figure size 720x432 with 1 Axes>"
      ]
     },
     "metadata": {
      "needs_background": "light"
     },
     "output_type": "display_data"
    }
   ],
   "source": [
    "length.plot(figsize=(10,6), logy=True)\n",
    "plt.xlabel('Streak Length')\n",
    "plt.ylabel('Probability')"
   ]
  },
  {
   "cell_type": "markdown",
   "metadata": {},
   "source": [
    "Over a career of attempts"
   ]
  },
  {
   "cell_type": "code",
   "execution_count": 11,
   "metadata": {},
   "outputs": [
    {
     "name": "stderr",
     "output_type": "stream",
     "text": [
      "No handles with labels found to put in legend.\n",
      "No handles with labels found to put in legend.\n"
     ]
    },
    {
     "data": {
      "text/plain": [
       "<matplotlib.legend.Legend at 0x1423daf1a58>"
      ]
     },
     "execution_count": 11,
     "metadata": {},
     "output_type": "execute_result"
    },
    {
     "data": {
      "image/png": "[encoded data removed]",
      "text/plain": [
       "<Figure size 1008x432 with 2 Axes>"
      ]
     },
     "metadata": {
      "needs_background": "light"
     },
     "output_type": "display_data"
    }
   ],
   "source": [
    "plt.figure(figsize=(14,6))\n",
    "plt.subplot(1,2,1)\n",
    "plt.scatter(rbi.Player, rbi.Record)\n",
    "plt.legend(bbox_to_anchor=(0.75, 0.75), loc=1, borderaxespad=0.)\n",
    "plt.xlabel('Player Average')\n",
    "plt.ylabel('Probability')\n",
    "plt.ylim(0)\n",
    "\n",
    "plt.subplot(1,2,2)\n",
    "plt.scatter(rbi.Player, rbi.Career, color ='b')\n",
    "plt.xlabel('Player Average')\n",
    "plt.ylabel('Probability')\n",
    "plt.legend(bbox_to_anchor=(0.75, 0.75), loc=1, borderaxespad=0.)"
   ]
  },
  {
   "cell_type": "markdown",
   "metadata": {},
   "source": [
    "## Numerical Solution\n",
    "### cadCAD Setup\n",
    "#### ----------------cadCAD LIBRARY IMPORTS------------------------"
   ]
  },
  {
   "cell_type": "code",
   "execution_count": 13,
   "metadata": {},
   "outputs": [],
   "source": [
    "# from SimCAD import configs\n",
    "# from SimCAD.configuration import Configuration\n",
    "# from SimCAD.configuration.utils import exo_update_per_ts, proc_trigger, bound_norm_random, \\\n",
    "#     ep_time_step\n",
    "\n",
    "from cadCAD.engine import ExecutionMode, ExecutionContext, Executor\n",
    "#from simulations.validation import sweep_config\n",
    "from cadCAD import configs\n",
    "from cadCAD.configuration import append_configs\n",
    "from cadCAD.configuration.utils import ep_time_step, config_sim"
   ]
  },
  {
   "cell_type": "code",
   "execution_count": 14,
   "metadata": {},
   "outputs": [],
   "source": [
    "#from cadCAD.configuration.utils.parameterSweep import config_sim"
   ]
  },
  {
   "cell_type": "code",
   "execution_count": 15,
   "metadata": {},
   "outputs": [],
   "source": [
    "from typing import Dict, List"
   ]
  },
  {
   "cell_type": "markdown",
   "metadata": {},
   "source": [
    "#### ----------------Random State Seed-----------------------------"
   ]
  },
  {
   "cell_type": "code",
   "execution_count": 16,
   "metadata": {},
   "outputs": [],
   "source": [
    "seed = {\n",
    "#    'z': np.random.RandomState(1)\n",
    "}"
   ]
  },
  {
   "cell_type": "markdown",
   "metadata": {},
   "source": [
    "#### Timestamp"
   ]
  },
  {
   "cell_type": "code",
   "execution_count": 17,
   "metadata": {},
   "outputs": [],
   "source": [
    "ts_format = '%Y-%m-%d %H:%M:%S'\n",
    "t_delta = timedelta(days=0, minutes=0, seconds=1)\n",
    "def set_time(_g, step, sL, s, _input):\n",
    "    y = 'timestamp'\n",
    "    x = ep_time_step(s, dt_str=s['timestamp'], fromat_str=ts_format, _timedelta=t_delta)\n",
    "    return (y, x)"
   ]
  },
  {
   "cell_type": "markdown",
   "metadata": {},
   "source": [
    "### Random Process Function on BA"
   ]
  },
  {
   "cell_type": "code",
   "execution_count": 18,
   "metadata": {},
   "outputs": [],
   "source": [
    "def random(twentieths):\n",
    "    '''Returns normal random variable generated by first two central moments of price change of input ticker'''\n",
    "    rv = np.random.randint(0,20)\n",
    "    if rv >= twentieths:\n",
    "        hit = False\n",
    "    else:\n",
    "        hit = True\n",
    "        \n",
    "    \n",
    "    return hit"
   ]
  },
  {
   "cell_type": "markdown",
   "metadata": {},
   "source": [
    "### Behavior Results for each AB"
   ]
  },
  {
   "cell_type": "code",
   "execution_count": 19,
   "metadata": {},
   "outputs": [],
   "source": [
    "# First AB\n",
    "def AB(_g, step, sL, s):\n",
    "    hit_200 = random(avg_200 / 50)\n",
    "    hit_250 = random(avg_250 / 50)\n",
    "    hit_300 = random(avg_300 / 50)\n",
    "    hit_350 = random(avg_350 / 50)\n",
    "    hit_400 = random(avg_400 / 50)\n",
    "    return {'player_200': hit_200, 'player_250': hit_250, 'player_300': hit_300, 'player_350': hit_350, 'player_400': hit_400, }"
   ]
  },
  {
   "cell_type": "markdown",
   "metadata": {},
   "source": [
    "### At-Bat Results for Each Hitter"
   ]
  },
  {
   "cell_type": "code",
   "execution_count": 20,
   "metadata": {},
   "outputs": [],
   "source": [
    "\n",
    "def AB_200(_g,  step, sL, s, _input):\n",
    "    key = 'player_200'\n",
    "    value = _input['player_200']\n",
    "    return key, value\n",
    "\n",
    "def AB_250(_g,  step, sL, s, _input):\n",
    "    key = 'player_250'\n",
    "    value = _input['player_250']\n",
    "    return key, value\n",
    "\n",
    "def AB_300(_g,  step, sL, s, _input):\n",
    "    key = 'player_300'\n",
    "    value = _input['player_300']\n",
    "    return key, value\n",
    "\n",
    "def AB_350(_g,  step, sL, s, _input):\n",
    "    key = 'player_350'\n",
    "    value = _input['player_350']\n",
    "    return key, value\n",
    "\n",
    "def AB_400(_g,  step, sL, s, _input):\n",
    "    key = 'player_400'\n",
    "    value = _input['player_400']\n",
    "    return key, value\n"
   ]
  },
  {
   "cell_type": "code",
   "execution_count": 21,
   "metadata": {},
   "outputs": [],
   "source": [
    "# State of transmitting True for any of the 4 ABs\n",
    "def game_hit_200(_g,  step, sL, s, _input):\n",
    "    key = 'game_200'\n",
    "    value = _input['player_200']    \n",
    "    if step == 1:\n",
    "#        print(step)\n",
    "        return key, value\n",
    "    elif s['game_200'] == False:\n",
    "#        print('input',_input['player_200'], 'output', s['test_200'])\n",
    "        return key, value\n",
    "    else:\n",
    "        return key, s['game_200']    \n"
   ]
  },
  {
   "cell_type": "code",
   "execution_count": 22,
   "metadata": {},
   "outputs": [],
   "source": [
    "# State of transmitting True for any of the 4 ABs\n",
    "def game_hit_250(_g,  step, sL, s, _input):\n",
    "    key = 'game_250'\n",
    "    value = _input['player_250']    \n",
    "    if step == 1:\n",
    "#        print(step)\n",
    "        return key, value\n",
    "    elif s['game_250'] == False:\n",
    "#        print('input',_input['player_250'], 'output', s['test_250'])\n",
    "        return key, value\n",
    "    else:\n",
    "        return key, s['game_250']    \n"
   ]
  },
  {
   "cell_type": "code",
   "execution_count": 23,
   "metadata": {},
   "outputs": [],
   "source": [
    "# State of transmitting True for any of the 4 ABs\n",
    "def game_hit_300(_g,  step, sL, s, _input):\n",
    "    key = 'game_300'\n",
    "    value = _input['player_300']    \n",
    "    if step == 1:\n",
    "#        print(step)\n",
    "        return key, value\n",
    "    elif s['game_300'] == False:\n",
    "#        print('input',_input['player_300'], 'output', s['test_300'])\n",
    "        return key, value\n",
    "    else:\n",
    "        return key, s['game_300']    \n"
   ]
  },
  {
   "cell_type": "code",
   "execution_count": 24,
   "metadata": {},
   "outputs": [],
   "source": [
    "# State of transmitting True for any of the 4 ABs\n",
    "def game_hit_350(_g,  step, sL, s, _input):\n",
    "    key = 'game_350'\n",
    "    value = _input['player_350']    \n",
    "    if step == 1:\n",
    "#        print(step)\n",
    "        return key, value\n",
    "    elif s['game_350'] == False:\n",
    "#        print('input',_input['player_350'], 'output', s['test_350'])\n",
    "        return key, value\n",
    "    else:\n",
    "        return key, s['game_350']    \n"
   ]
  },
  {
   "cell_type": "code",
   "execution_count": 25,
   "metadata": {},
   "outputs": [],
   "source": [
    "# State of transmitting True for any of the 4 ABs\n",
    "def game_hit_400(_g,  step, sL, s, _input):\n",
    "    key = 'game_400'\n",
    "    value = _input['player_400']    \n",
    "    if step == 1:\n",
    "#        print(step)\n",
    "        return key, value\n",
    "    elif s['game_400'] == False:\n",
    "#        print('input',_input['player_400'], 'output', s['test_400'])\n",
    "        return key, value\n",
    "    else:\n",
    "        return key, s['game_400']    \n"
   ]
  },
  {
   "cell_type": "markdown",
   "metadata": {},
   "source": [
    "### cadCAD Genesis States and State Update Blocks"
   ]
  },
  {
   "cell_type": "code",
   "execution_count": 26,
   "metadata": {},
   "outputs": [],
   "source": [
    "g: Dict[str, List[int]] = {\n",
    "    'gamma_1': [0.5, 1],\n",
    "#     'omega': [7]\n",
    "}"
   ]
  },
  {
   "cell_type": "markdown",
   "metadata": {},
   "source": [
    "#### SIMULATION RUN SETUP"
   ]
  },
  {
   "cell_type": "code",
   "execution_count": 27,
   "metadata": {},
   "outputs": [],
   "source": [
    "# games = 160\n",
    "# seasons = 20\n",
    "time_step_count = games * seasons\n",
    "run_count = 2"
   ]
  },
  {
   "cell_type": "markdown",
   "metadata": {},
   "source": [
    "#### CONFIGURATION DICTIONARY"
   ]
  },
  {
   "cell_type": "code",
   "execution_count": 28,
   "metadata": {},
   "outputs": [
    {
     "name": "stdout",
     "output_type": "stream",
     "text": [
      "[{'N': 2, 'T': range(0, 3200), 'M': [{}]}]\n"
     ]
    }
   ],
   "source": [
    "#----------STATE VARIABLE Genesis DICTIONARY---------------------------\n",
    "genesis_states = {\n",
    "    'player_200' : False,       \n",
    "    'player_250' : False,\n",
    "    'player_300' : False,\n",
    "    'player_350' : False,\n",
    "    'player_400' : False,\n",
    "    'game_200'   : False,\n",
    "    'game_250'   : False,\n",
    "    'game_300'   : False,\n",
    "    'game_350'   : False,\n",
    "    'game_400'   : False,\n",
    "    'timestamp': '2018-10-01 15:16:24',     #es5\n",
    "}\n",
    "#--------------EXOGENOUS STATE MECHANISM DICTIONARY--------------------\n",
    "exogenous_states =     {\n",
    "    \"timestamp\": set_time,\n",
    "    }\n",
    "\n",
    "#--------------ENVIRONMENTAL PROCESS DICTIONARY------------------------\n",
    "env_processes = {\n",
    "}\n",
    "#----------------------SIMULATION RUN SETUP----------------------------\n",
    "sim_config = config_sim(\n",
    "    {\n",
    "    \"N\": run_count,\n",
    "    \"T\": range(time_step_count)\n",
    "#     \"M\": g  # for parameter sweep\n",
    "}\n",
    ")\n",
    "#----------------------MECHANISM AND BEHAVIOR DICTIONARY---------------\n",
    "partial_state_update_block = {\n",
    "    \"AB_1\": {                 \n",
    "        \"policies\": {  \n",
    "           'AB': AB    #AB_executor('player_200')\n",
    "        },\n",
    "        \"variables\": {\n",
    "            'player_200'            : AB_200,\n",
    "            'player_250'            : AB_250,\n",
    "            'player_300'            : AB_300,\n",
    "            'player_350'            : AB_350,\n",
    "            'player_400'            : AB_400,\n",
    "            'game_200'              : game_hit_200,\n",
    "            'game_250'              : game_hit_250,\n",
    "            'game_300'              : game_hit_300,\n",
    "            'game_350'              : game_hit_350,\n",
    "            'game_400'              : game_hit_400,\n",
    "        }\n",
    "    },\n",
    "    \"AB_2\": {                 \n",
    "        \"policies\": {  \n",
    "           'AB': AB    #AB_executor('player_200')\n",
    "        },\n",
    "        \"variables\": {\n",
    "            'player_200'            : AB_200,\n",
    "            'player_250'            : AB_250,\n",
    "            'player_300'            : AB_300,\n",
    "            'player_350'            : AB_350,\n",
    "            'player_400'            : AB_400,\n",
    "            'game_200'              : game_hit_200,\n",
    "            'game_250'              : game_hit_250,\n",
    "            'game_300'              : game_hit_300,\n",
    "            'game_350'              : game_hit_350,\n",
    "            'game_400'              : game_hit_400,\n",
    "        }\n",
    "    },\n",
    "    \"AB_3\": {                 \n",
    "        \"policies\": {  \n",
    "           'AB': AB    #AB_executor('player_200')\n",
    "        },\n",
    "        \"variables\": {\n",
    "            'player_200'            : AB_200,\n",
    "            'player_250'            : AB_250,\n",
    "            'player_300'            : AB_300,\n",
    "            'player_350'            : AB_350,\n",
    "            'player_400'            : AB_400,\n",
    "            'game_200'              : game_hit_200,\n",
    "            'game_250'              : game_hit_250,\n",
    "            'game_300'              : game_hit_300,\n",
    "            'game_350'              : game_hit_350,\n",
    "            'game_400'              : game_hit_400,\n",
    "        }\n",
    "    },\n",
    "    \"AB_4\": {                 \n",
    "        \"policies\": {  \n",
    "           'AB': AB    #AB_executor('player_200')\n",
    "        },\n",
    "        \"variables\": {\n",
    "            'player_200'            : AB_200,\n",
    "            'player_250'            : AB_250,\n",
    "            'player_300'            : AB_300,\n",
    "            'player_350'            : AB_350,\n",
    "            'player_400'            : AB_400,\n",
    "            'game_200'              : game_hit_200,\n",
    "            'game_250'              : game_hit_250,\n",
    "            'game_300'              : game_hit_300,\n",
    "            'game_350'              : game_hit_350,\n",
    "            'game_400'              : game_hit_400,\n",
    "        }\n",
    "    },\n",
    "}\n",
    "\n",
    "append_configs(\n",
    "    sim_configs=sim_config,\n",
    "    initial_state=genesis_states,\n",
    "    seeds=seed,\n",
    "    raw_exogenous_states= exogenous_states,\n",
    "    env_processes=env_processes,\n",
    "    partial_state_update_blocks=partial_state_update_block\n",
    ")"
   ]
  },
  {
   "cell_type": "markdown",
   "metadata": {},
   "source": [
    "#### Running cadCAD"
   ]
  },
  {
   "cell_type": "code",
   "execution_count": null,
   "metadata": {},
   "outputs": [
    {
     "name": "stdout",
     "output_type": "stream",
     "text": [
      "\n",
      "                            __________   ____ \n",
      "          ________ __ _____/ ____/   |  / __ \\\n",
      "         / ___/ __` / __  / /   / /| | / / / /\n",
      "        / /__/ /_/ / /_/ / /___/ ___ |/ /_/ / \n",
      "        \\___/\\__,_/\\__,_/\\____/_/  |_/_____/  \n",
      "        by BlockScience\n",
      "        \n",
      "Execution Mode: single_proc: [<cadCAD.configuration.Configuration object at 0x000001423DC8AE48>]\n",
      "Configurations: [<cadCAD.configuration.Configuration object at 0x000001423DC8AE48>]\n"
     ]
    },
    {
     "name": "stderr",
     "output_type": "stream",
     "text": [
      "C:\\Users\\mbarl\\AppData\\Local\\Continuum\\anaconda3\\lib\\site-packages\\cadCAD\\utils\\__init__.py:113: FutureWarning: The use of a dictionary to describe Partial State Update Blocks will be deprecated. Use a list instead.\n",
      "  FutureWarning)\n"
     ]
    }
   ],
   "source": [
    "exec_mode = ExecutionMode()\n",
    "\n",
    "first_config = configs # only contains config1\n",
    "single_proc_ctx = ExecutionContext(context=exec_mode.single_proc)\n",
    "run1 = Executor(exec_context=single_proc_ctx, configs=first_config)\n",
    "run1_raw_result, tensor_field = run1.execute()\n",
    "result = pd.DataFrame(run1_raw_result)\n",
    "print(result.head())\n",
    "return result"
   ]
  },
  {
   "cell_type": "code",
   "execution_count": null,
   "metadata": {},
   "outputs": [],
   "source": [
    "df = result"
   ]
  },
  {
   "cell_type": "code",
   "execution_count": null,
   "metadata": {},
   "outputs": [],
   "source": [
    "df.head()"
   ]
  },
  {
   "cell_type": "code",
   "execution_count": null,
   "metadata": {},
   "outputs": [],
   "source": [
    "# Aggregates df of Monte Carlo runs by timestep. Creates dataframes of mean, median, sd, and minimum.\n",
    "aggregate_dimension = 'timestep'\n",
    "\n",
    "mean_df = df.groupby(aggregate_dimension).mean().reset_index()\n",
    "median_df = df.groupby(aggregate_dimension).median().reset_index()\n",
    "std_df = df.groupby(aggregate_dimension).std().reset_index()\n",
    "min_df = df.groupby(aggregate_dimension).min().reset_index()"
   ]
  },
  {
   "cell_type": "markdown",
   "metadata": {},
   "source": [
    "#### Plot Functions"
   ]
  },
  {
   "cell_type": "code",
   "execution_count": null,
   "metadata": {},
   "outputs": [],
   "source": [
    "def dist_plot(x, y,lx=False,ly=False, suppMin=False):       \n",
    "    '''\n",
    "    Generates Monte Carlo plot of mean, median, mean + 1 sd. Option to plot either mean-1 sd or minimum.\n",
    "    Option to plot log-scale on x or y.\n",
    "    '''\n",
    "    plt.figure(figsize=(10,6))\n",
    "    if not(suppMin):\n",
    "        plt.plot(mean_df[x].values, mean_df[y].values,\n",
    "             mean_df[x].values,median_df[y].values,\n",
    "             mean_df[x].values,mean_df[y].values+std_df[y].values,\n",
    "             mean_df[x].values,min_df[y].values)\n",
    "        plt.legend(['mean', 'median', 'mean+ 1*std', 'min'],bbox_to_anchor=(1.05, 1), loc=2, borderaxespad=0.)\n",
    "        \n",
    "    else:\n",
    "        plt.plot(mean_df[x].values, mean_df[y].values,\n",
    "             mean_df[x].values,median_df[y].values,\n",
    "             mean_df[x].values,mean_df[y].values+std_df[y].values,\n",
    "             mean_df[x].values,mean_df[y].values-std_df[y].values)\n",
    "        plt.legend(['mean', 'median', 'mean+ 1*std', 'mean - 1*std'],bbox_to_anchor=(1.05, 1), loc=2, borderaxespad=0.)\n",
    "\n",
    "    plt.xlabel(x)\n",
    "    plt.ylabel(y)\n",
    "    if lx:\n",
    "        plt.xscale('log')\n",
    "    \n",
    "    if ly:\n",
    "        plt.yscale('log')"
   ]
  },
  {
   "cell_type": "code",
   "execution_count": null,
   "metadata": {},
   "outputs": [],
   "source": [
    "def first_five_plot(state_var):\n",
    "    '''\n",
    "    Enter state variable name as a string. Generates timeseries plot of at most the first five\n",
    "    Monte Carlo runs along with the mean of ALL runs. Use run_count variable name for number of runs.\n",
    "    '''\n",
    "    plt.figure(figsize=(10,6))\n",
    "    if run_count < 5:\n",
    "        runs = run_count\n",
    "    else:\n",
    "        runs = 5\n",
    "    for r in range(1,runs+1):\n",
    "        legend_name = 'Run ' + str(r)\n",
    "        plt.plot(df[df.run==r].timestep, df[df.run==r][state_var], label = legend_name )\n",
    "    plt.scatter(mean_df.timestep, mean_df[state_var], label = 'Mean', color = 'black')\n",
    "    plt.legend(bbox_to_anchor=(1.05, 1), loc=2, borderaxespad=0.)\n",
    "    plt.xlabel('Timestep')\n",
    "    plt.ylabel(state_var)\n",
    "    title_text = 'Performance of ' + state_var + ' over the First ' + str(runs) + ' Monte Carlo Runs'\n",
    "    plt.title(title_text)"
   ]
  },
  {
   "cell_type": "code",
   "execution_count": null,
   "metadata": {},
   "outputs": [],
   "source": [
    "def overview_plot(mech_steps, *args, **kwargs):\n",
    "    '''\n",
    "    *args, enter df fields of desired plots\n",
    "    uses time_step_count and run_count variable name from simulation runs.\n",
    "    **kwarg y_label for custom y axis title\n",
    "    **kwarg legend_label for custom legend label\n",
    "    '''\n",
    "    plt.figure(figsize=(10,6))\n",
    "    for r in range(run_count):\n",
    "        plt.axvline(x= mech_steps * time_step_count * r, color ='b')\n",
    "    for arg in args:\n",
    "        for key, value in kwargs.items():\n",
    "            if key == 'y_label':\n",
    "                plt.ylabel(value)\n",
    "            if key == 'legend_label':\n",
    "                plt.plot(arg, label = value)\n",
    "            else:\n",
    "                plt.plot(arg) #, label = arg.in\n",
    "#         plt.plot(arg, label = y_label)\n",
    "    plt.legend(bbox_to_anchor=(1.05, 1), loc=2, borderaxespad=0.)\n",
    "\n",
    "    x_text = 'Timestep Repeated over ' + str(run_count) + ' Runs'\n",
    "    plt.xlabel(x_text)\n",
    "    plt.title('Overview of Repeated Monte Carlo Runs')"
   ]
  },
  {
   "cell_type": "code",
   "execution_count": null,
   "metadata": {},
   "outputs": [],
   "source": [
    "dist_plot('timestep', 'player_200',suppMin=False)"
   ]
  },
  {
   "cell_type": "code",
   "execution_count": null,
   "metadata": {},
   "outputs": [],
   "source": [
    "df_sub = df\n",
    "print('Average Check of .200 = ', len(df_sub[df_sub.player_200 == True]) / len(df_sub))\n",
    "print('Average Check of .250 = ', len(df_sub[df_sub.player_250 == True]) / len(df_sub))\n",
    "print('Average Check of .300 = ', len(df_sub[df_sub.player_300 == True]) / len(df_sub))\n",
    "print('Average Check of .350 = ', len(df_sub[df_sub.player_350 == True]) / len(df_sub))\n",
    "print('Average Check of .400 = ', len(df_sub[df_sub.player_400 == True]) / len(df_sub))\n"
   ]
  },
  {
   "cell_type": "code",
   "execution_count": null,
   "metadata": {},
   "outputs": [],
   "source": [
    "# class Player():\n",
    "#     def __init__(self, average):\n",
    "#         self.average = average\n",
    "# player_200 = Player(200)\n",
    "# print(player_200)\n",
    "# print(player_200.average)"
   ]
  },
  {
   "cell_type": "code",
   "execution_count": null,
   "metadata": {},
   "outputs": [],
   "source": [
    "# credit https://stackoverflow.com/questions/52717996/how-can-i-count-the-number-of-consecutive-trues-in-a-dataframe\n",
    "def maxisland_start_len_mask(a, fillna_index = -1, fillna_len = 0):\n",
    "    # a is a boolean array\n",
    "\n",
    "    pad = np.zeros(a.shape[1],dtype=bool)\n",
    "    mask = np.vstack((pad, a, pad))\n",
    "\n",
    "    mask_step = mask[1:] != mask[:-1]\n",
    "    idx = np.flatnonzero(mask_step.T)\n",
    "    island_starts = idx[::2]\n",
    "    island_lens = idx[1::2] - idx[::2]\n",
    "    n_islands_percol = mask_step.sum(0)//2\n",
    "\n",
    "    bins = np.repeat(np.arange(a.shape[1]),n_islands_percol)\n",
    "    scale = island_lens.max()+1\n",
    "\n",
    "    scaled_idx = np.argsort(scale*bins + island_lens)\n",
    "    grp_shift_idx = np.r_[0,n_islands_percol.cumsum()]\n",
    "    max_island_starts = island_starts[scaled_idx[grp_shift_idx[1:]-1]]\n",
    "\n",
    "    max_island_percol_start = max_island_starts%(a.shape[0]+1)\n",
    "\n",
    "    valid = n_islands_percol!=0\n",
    "    cut_idx = grp_shift_idx[:-1][valid]\n",
    "    max_island_percol_len = np.maximum.reduceat(island_lens, cut_idx)\n",
    "\n",
    "    out_len = np.full(a.shape[1], fillna_len, dtype=int)\n",
    "    out_len[valid] = max_island_percol_len\n",
    "    out_index = np.where(valid,max_island_percol_start,fillna_index)\n",
    "    return out_index, out_len\n",
    "# credit https://stackoverflow.com/questions/52717996/how-can-i-count-the-number-of-consecutive-trues-in-a-dataframe"
   ]
  },
  {
   "cell_type": "code",
   "execution_count": null,
   "metadata": {},
   "outputs": [],
   "source": [
    "streak_df = pd.DataFrame(index=range(1,run_count+1),columns=['Player_200', 'Player_250','Player_300','Player_350','Player_400'] )\n",
    "\n",
    "for r in range(1,run_count+1):\n",
    "    season_df = df[(df.substep == 4) & (df.run == r)]\n",
    "  \n",
    "    a = np.array([season_df.game_200, season_df.game_250,season_df.game_300,season_df.game_350,season_df.game_400])\n",
    "    a = np.transpose(a)\n",
    "    streak_start, streak_length = maxisland_start_len_mask(a, fillna_index=-1, fillna_len=0)\n",
    "\n",
    "    for index, col in enumerate(streak_df.columns):\n",
    "\n",
    "        streak_df[col][r] = streak_length[index]"
   ]
  },
  {
   "cell_type": "code",
   "execution_count": null,
   "metadata": {},
   "outputs": [],
   "source": [
    "a = streak_df.Player_400[streak_df.Player_400 > 56].count()\n",
    "b = streak_df.Player_350[streak_df.Player_350 > 56].count()\n",
    "c = streak_df.Player_300[streak_df.Player_300 > 56].count()\n",
    "d = streak_df.Player_250[streak_df.Player_250 > 56].count()\n",
    "e = streak_df.Player_200[streak_df.Player_200 > 56].count()\n",
    "print('400 times = ', a, ' over ', run_count, ' simulated careers or ', a * 100 / run_count, '%' )\n",
    "print('350 times = ', b, ' over ', run_count, ' simulated careers or ', b * 100 / run_count, '%' )\n",
    "print('300 times = ', c, ' over ', run_count, ' simulated careers or ', c * 100 / run_count, '%' )\n",
    "print('250 times = ', d, ' over ', run_count, ' simulated careers or ', d * 100 / run_count, '%' )\n",
    "print('200 times = ', e, ' over ', run_count, ' simulated careers or ', e * 100 / run_count, '%' )\n",
    "print('Total = ', streak_df[streak_df.values > 56].count().values[0])"
   ]
  },
  {
   "cell_type": "code",
   "execution_count": null,
   "metadata": {},
   "outputs": [],
   "source": [
    "streak_df.plot(figsize=(14,6))\n",
    "plt.axhline(y= 56, color ='b', label='Joe D Record')\n",
    "plt.ylabel('Longest Streak by Player')\n",
    "plt.xlabel('Simulated Career')\n",
    "title_text = 'Maximum Length of Career Hitting Streak over ' + str(run_count) + ' Simulated Careers'\n",
    "plt.title(title_text)"
   ]
  },
  {
   "cell_type": "code",
   "execution_count": null,
   "metadata": {},
   "outputs": [],
   "source": [
    "plt.figure(figsize=(14,6))\n",
    "plt.bar(streak_df.index-0.5, streak_df.Player_200, width=0.25,  label ='Player_200') \n",
    "plt.bar(streak_df.index-0.25, streak_df.Player_250, width=0.25, label ='Player_250') \n",
    "plt.bar(streak_df.index, streak_df.Player_300, width=0.25, label ='Player_300') \n",
    "plt.bar(streak_df.index + 0.25, streak_df.Player_350, width=0.25, label ='Player_350') \n",
    "plt.bar(streak_df.index + 0.5, streak_df.Player_400, width=0.25, label ='Player_400') \n",
    "plt.axhline(y= 56, color ='b', label='Joe D Record')\n",
    "plt.legend(bbox_to_anchor=(1.05, 1), loc=2, borderaxespad=0.)\n",
    "plt.ylabel('Longest Streak by Player')\n",
    "plt.xlabel('Simulated Career')\n",
    "title_text = 'Maximum Length of Career Hitting Streak over ' + str(run_count) + ' Simulated Careers'\n",
    "plt.title(title_text)\n",
    "plt.show()"
   ]
  },
  {
   "cell_type": "code",
   "execution_count": null,
   "metadata": {},
   "outputs": [],
   "source": [
    "g = sns.catplot( data=streak_df,\n",
    "                height=6, kind=\"bar\", palette=\"muted\")\n",
    "g.set_ylabels(\"Max Streak by Career\")\n",
    "title_text = 'Distribution of Longest Hitting Streak over  ' + str(run_count) + ' Simulated Careers'\n",
    "plt.title(title_text)\n",
    "plt.show()"
   ]
  },
  {
   "cell_type": "code",
   "execution_count": null,
   "metadata": {},
   "outputs": [],
   "source": [
    "streak_df.head()"
   ]
  },
  {
   "cell_type": "code",
   "execution_count": null,
   "metadata": {},
   "outputs": [],
   "source": [
    "mean_df = streak_df.mean()\n",
    "median_df = streak_df.median()\n",
    "min_df = streak_df.min()\n",
    "max_df = streak_df.max()\n",
    "std_plus_df = mean_df + streak_df.std()\n",
    "std_minus_df = mean_df - streak_df.std()"
   ]
  },
  {
   "cell_type": "code",
   "execution_count": null,
   "metadata": {},
   "outputs": [],
   "source": [
    "max_df.plot(figsize=(10,6))\n",
    "std_plus_df.plot()\n",
    "mean_df.plot()\n",
    "median_df.plot()\n",
    "std_minus_df.plot()\n",
    "min_df.plot()\n",
    "plt.xticks([0,1,2,3,4],['.200','.250','.300','.350','.400'])\n",
    "plt.legend(['max','mean + 1 SD','mean', 'median','mean - 1 SD','min'],bbox_to_anchor=(1.05, 1), loc=2, borderaxespad=0.)\n",
    "plt.ylabel('Hitting Streak Length')\n",
    "plt.xlabel('Batting Average')\n",
    "title_text = 'Statistical Performance by Player BA over ' + str(run_count) + ' Simulated Careers'\n",
    "plt.title(title_text)\n",
    "plt.show()"
   ]
  },
  {
   "cell_type": "code",
   "execution_count": null,
   "metadata": {},
   "outputs": [],
   "source": []
  }
 ],
 "metadata": {
  "kernelspec": {
   "display_name": "Python 3",
   "language": "python",
   "name": "python3"
  },
  "language_info": {
   "codemirror_mode": {
    "name": "ipython",
    "version": 3
   },
   "file_extension": ".py",
   "mimetype": "text/x-python",
   "name": "python",
   "nbconvert_exporter": "python",
   "pygments_lexer": "ipython3",
   "version": "3.6.5"
  }
 },
 "nbformat": 4,
 "nbformat_minor": 2
}
